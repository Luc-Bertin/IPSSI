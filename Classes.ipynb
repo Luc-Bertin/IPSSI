{
 "cells": [
  {
   "cell_type": "code",
   "execution_count": null,
   "metadata": {},
   "outputs": [],
   "source": [
    "a = int()\n",
    "dict()\n",
    "str()\n",
    "tuple()\n",
    "float()\n",
    "set()"
   ]
  },
  {
   "cell_type": "markdown",
   "metadata": {},
   "source": [
    "# variables associées:\n",
    "   - variables d'instances\n",
    "   - variables de classe\n",
    "# méthodes (functions) associés:\n",
    "   - méthode d'instances\n",
    "   - méthode de classe"
   ]
  },
  {
   "cell_type": "code",
   "execution_count": 242,
   "metadata": {},
   "outputs": [],
   "source": [
    "class People:    \n",
    "    # variable de classe\n",
    "    nb_of_arms = 2\n",
    "    nb_of_legs = 2\n",
    "    \n",
    "        \n",
    "    # méthode d'instance avec __xxx__: dunder / magic methods\n",
    "    def __init__(self, name, age, temerite=5):\n",
    "        \"\"\"défini une nouvelle personne avec un age et un nom\"\"\"\n",
    "        self.age = age\n",
    "        self.name = name\n",
    "        self.temerite = temerite\n",
    "\n",
    "    # méthode d'instance avec __xxx___ dunder / magic methods\n",
    "    def __str__(self):\n",
    "        return f\"une personne qui s'appelle {self.name} et d'âge: {self.age}\"\n",
    "        \n",
    "    \n",
    "    def __add__(self, autre): # comportement quand je fais instance1 + instance2\n",
    "        if isinstance(autre, People):\n",
    "            return People(age = self.age + autre.age,\n",
    "                          name = \"ladditionné\",\n",
    "                          temerite = self.temerite + autre.temerite)\n",
    "        return 0\n",
    "    \n",
    "    # méthode custom d'instance aussi \n",
    "    def birthday(self):\n",
    "        \"\"\"la personne vient d'avoir un an de plus\"\"\"\n",
    "        self.age += 1\n",
    "    \n",
    "    # méthode custom d'instance aussi\n",
    "    def accident(self):\n",
    "        print(self.nb_of_arms)\n",
    "        self.age += 1\n",
    "        self.temerite -= 1\n",
    "        self.__class__.nb_of_arms = self.__class__.nb_of_arms - 1\n",
    "        \n",
    "\n",
    "    #méthode pas d'instance, mais une méthode de classe\n",
    "    @classmethod\n",
    "    def apocalypse(cls):\n",
    "        if cls.nb_of_arms == 0:\n",
    "            pass\n",
    "        else:\n",
    "            cls.nb_of_arms -= 1\n",
    "        cls.nb_of_legs - 1\n",
    "            \n",
    "    @staticmethod\n",
    "    def message(name):\n",
    "        return \"salut \""
   ]
  },
  {
   "cell_type": "code",
   "execution_count": 246,
   "metadata": {},
   "outputs": [],
   "source": [
    "humain1 = People(name=\"Luc\", age=25)\n",
    "humain2 = People(name=\"Marie\", age=26)"
   ]
  },
  {
   "cell_type": "code",
   "execution_count": 248,
   "metadata": {},
   "outputs": [],
   "source": [
    "humain3 = humain1 + humain2"
   ]
  },
  {
   "cell_type": "code",
   "execution_count": 249,
   "metadata": {},
   "outputs": [
    {
     "data": {
      "text/plain": [
       "10"
      ]
     },
     "execution_count": 249,
     "metadata": {},
     "output_type": "execute_result"
    }
   ],
   "source": [
    "humain3.temerite"
   ]
  },
  {
   "cell_type": "code",
   "execution_count": 226,
   "metadata": {},
   "outputs": [
    {
     "data": {
      "text/plain": [
       "(2, 2)"
      ]
     },
     "execution_count": 226,
     "metadata": {},
     "output_type": "execute_result"
    }
   ],
   "source": [
    "humain1.nb_of_arms, humain2.nb_of_arms"
   ]
  },
  {
   "cell_type": "code",
   "execution_count": 227,
   "metadata": {},
   "outputs": [],
   "source": [
    "humain1.apocalypse()"
   ]
  },
  {
   "cell_type": "code",
   "execution_count": 228,
   "metadata": {},
   "outputs": [
    {
     "data": {
      "text/plain": [
       "(1, 1)"
      ]
     },
     "execution_count": 228,
     "metadata": {},
     "output_type": "execute_result"
    }
   ],
   "source": [
    "humain1.nb_of_arms, humain2.nb_of_arms"
   ]
  },
  {
   "cell_type": "code",
   "execution_count": 241,
   "metadata": {},
   "outputs": [
    {
     "data": {
      "text/plain": [
       "type"
      ]
     },
     "execution_count": 241,
     "metadata": {},
     "output_type": "execute_result"
    }
   ],
   "source": [
    "type(People)"
   ]
  },
  {
   "cell_type": "code",
   "execution_count": 239,
   "metadata": {},
   "outputs": [
    {
     "data": {
      "text/plain": [
       "140327579602512"
      ]
     },
     "execution_count": 239,
     "metadata": {},
     "output_type": "execute_result"
    }
   ],
   "source": [
    "id(People)"
   ]
  },
  {
   "cell_type": "code",
   "execution_count": 240,
   "metadata": {},
   "outputs": [
    {
     "data": {
      "text/plain": [
       "140327500121200"
      ]
     },
     "execution_count": 240,
     "metadata": {},
     "output_type": "execute_result"
    }
   ],
   "source": [
    "id(humain3.__class__)"
   ]
  },
  {
   "cell_type": "code",
   "execution_count": 229,
   "metadata": {},
   "outputs": [],
   "source": [
    "humain3 = People(name=\"sétphane\", age=25)"
   ]
  },
  {
   "cell_type": "code",
   "execution_count": 235,
   "metadata": {},
   "outputs": [
    {
     "data": {
      "text/plain": [
       "1"
      ]
     },
     "execution_count": 235,
     "metadata": {},
     "output_type": "execute_result"
    }
   ],
   "source": [
    "humain3.nb_of_arms"
   ]
  },
  {
   "cell_type": "code",
   "execution_count": 222,
   "metadata": {},
   "outputs": [
    {
     "data": {
      "text/plain": [
       "(4, 5)"
      ]
     },
     "execution_count": 222,
     "metadata": {},
     "output_type": "execute_result"
    }
   ],
   "source": [
    "humain1.temerite, humain2.temerite"
   ]
  },
  {
   "cell_type": "code",
   "execution_count": 221,
   "metadata": {},
   "outputs": [
    {
     "data": {
      "text/plain": [
       "(1, 1)"
      ]
     },
     "execution_count": 221,
     "metadata": {},
     "output_type": "execute_result"
    }
   ],
   "source": []
  },
  {
   "cell_type": "code",
   "execution_count": 219,
   "metadata": {},
   "outputs": [
    {
     "name": "stdout",
     "output_type": "stream",
     "text": [
      "2\n"
     ]
    }
   ],
   "source": [
    "humain1.accident()"
   ]
  },
  {
   "cell_type": "code",
   "execution_count": 201,
   "metadata": {},
   "outputs": [],
   "source": [
    "class Maths:\n",
    "    @staticmethod\n",
    "    def power2(entier):\n",
    "        return entier**2\n",
    "    \n",
    "    @staticmethod\n",
    "    def factoriel(entier):\n",
    "        return 0"
   ]
  },
  {
   "cell_type": "code",
   "execution_count": 204,
   "metadata": {},
   "outputs": [],
   "source": [
    "instance = Maths()"
   ]
  },
  {
   "cell_type": "code",
   "execution_count": 205,
   "metadata": {},
   "outputs": [
    {
     "data": {
      "text/plain": [
       "529"
      ]
     },
     "execution_count": 205,
     "metadata": {},
     "output_type": "execute_result"
    }
   ],
   "source": [
    "instance.power2(23)"
   ]
  },
  {
   "cell_type": "code",
   "execution_count": 202,
   "metadata": {},
   "outputs": [
    {
     "data": {
      "text/plain": [
       "529"
      ]
     },
     "execution_count": 202,
     "metadata": {},
     "output_type": "execute_result"
    }
   ],
   "source": [
    "Maths.power2(23)"
   ]
  },
  {
   "cell_type": "code",
   "execution_count": 203,
   "metadata": {},
   "outputs": [
    {
     "data": {
      "text/plain": [
       "0"
      ]
     },
     "execution_count": 203,
     "metadata": {},
     "output_type": "execute_result"
    }
   ],
   "source": [
    "Maths.factoriel(5)"
   ]
  },
  {
   "cell_type": "code",
   "execution_count": 195,
   "metadata": {},
   "outputs": [],
   "source": [
    "humain1 = People(name=\"Luc\", age=25)"
   ]
  },
  {
   "cell_type": "code",
   "execution_count": 196,
   "metadata": {},
   "outputs": [
    {
     "data": {
      "text/plain": [
       "'salut test'"
      ]
     },
     "execution_count": 196,
     "metadata": {},
     "output_type": "execute_result"
    }
   ],
   "source": [
    "humain1.message(\"test\")"
   ]
  },
  {
   "cell_type": "code",
   "execution_count": 165,
   "metadata": {},
   "outputs": [],
   "source": [
    "humain1 = People(name=\"Luc\", age=25)\n",
    "humain2 = People(name=\"Vincent\", age=18)\n",
    "humain3 = People(name=\"Marie\", age=25)\n",
    "humain4 = People(name=\"Stéphanie\", age=18)"
   ]
  },
  {
   "cell_type": "code",
   "execution_count": 166,
   "metadata": {},
   "outputs": [
    {
     "name": "stdout",
     "output_type": "stream",
     "text": [
      "une personne qui s'appelle Luc et d'âge: 25\n"
     ]
    }
   ],
   "source": [
    "print( humain1)"
   ]
  },
  {
   "cell_type": "code",
   "execution_count": 186,
   "metadata": {},
   "outputs": [],
   "source": [
    "class Student(People):\n",
    "    \n",
    "    def __init__(self, name, age, filiere, nb_annees_etudes, temerite=5):\n",
    "        super().__init__(name, age, temerite)\n",
    "        self.filiere = filiere\n",
    "        self.nb_annees_etudes = nb_annees_etudes\n",
    "        \n",
    "    def __str__(self):\n",
    "        output = super().__str__()\n",
    "        return output +\"\\n\"+ \"avec la filiere: \" + self.filiere + \"\\tet nb annees études: \" + str(self.nb_annees_etudes)"
   ]
  },
  {
   "cell_type": "code",
   "execution_count": null,
   "metadata": {},
   "outputs": [],
   "source": [
    "cl"
   ]
  },
  {
   "cell_type": "code",
   "execution_count": 187,
   "metadata": {},
   "outputs": [],
   "source": [
    "etudiant1 = Student(\"Luc\", 25, \"maths\", 7)"
   ]
  },
  {
   "cell_type": "code",
   "execution_count": 188,
   "metadata": {},
   "outputs": [
    {
     "name": "stdout",
     "output_type": "stream",
     "text": [
      "une personne qui s'appelle Luc et d'âge: 25\n",
      "avec la filiere: maths\tet nb annees études: 7\n"
     ]
    }
   ],
   "source": [
    "print(etudiant1)"
   ]
  },
  {
   "cell_type": "code",
   "execution_count": 190,
   "metadata": {},
   "outputs": [],
   "source": [
    "liste = [etudiant1, humain1, humain2, \"salut\", 25, [1,2,3]]"
   ]
  },
  {
   "cell_type": "code",
   "execution_count": 193,
   "metadata": {},
   "outputs": [
    {
     "name": "stdout",
     "output_type": "stream",
     "text": [
      "une personne qui s'appelle Luc et d'âge: 26\n",
      "avec la filiere: maths\tet nb annees études: 7\n",
      "une personne qui s'appelle Luc et d'âge: 26\n",
      "une personne qui s'appelle Vincent et d'âge: 19\n",
      "salut\n",
      "25\n",
      "[1, 2, 3]\n"
     ]
    }
   ],
   "source": [
    "for el in liste:\n",
    "    print( el )"
   ]
  },
  {
   "cell_type": "code",
   "execution_count": 146,
   "metadata": {},
   "outputs": [
    {
     "data": {
      "text/plain": [
       "__main__.Student"
      ]
     },
     "execution_count": 146,
     "metadata": {},
     "output_type": "execute_result"
    }
   ],
   "source": [
    "type(etudiant1)"
   ]
  },
  {
   "cell_type": "code",
   "execution_count": 145,
   "metadata": {},
   "outputs": [
    {
     "name": "stdout",
     "output_type": "stream",
     "text": [
      "une personne qui s'appelle Luc et d'âge: 36\n"
     ]
    }
   ],
   "source": [
    "etudiant1.birthday()\n",
    "print(etudiant1)"
   ]
  },
  {
   "cell_type": "code",
   "execution_count": 131,
   "metadata": {},
   "outputs": [
    {
     "name": "stdout",
     "output_type": "stream",
     "text": [
      "une personne qui s'appelle Luc et d'âge: 25\n"
     ]
    }
   ],
   "source": [
    "print( etudiant1 )"
   ]
  },
  {
   "cell_type": "code",
   "execution_count": 124,
   "metadata": {},
   "outputs": [],
   "source": [
    "humains = [humain1, humain2, humain3, humain4]"
   ]
  },
  {
   "cell_type": "code",
   "execution_count": 125,
   "metadata": {},
   "outputs": [
    {
     "name": "stdout",
     "output_type": "stream",
     "text": [
      "une personne qui s'appelle Luc et d'âge: 25\n",
      "une personne qui s'appelle Luc et d'âge: 26\n",
      "une personne qui s'appelle Vincent et d'âge: 18\n",
      "une personne qui s'appelle Vincent et d'âge: 19\n",
      "une personne qui s'appelle Marie et d'âge: 25\n",
      "une personne qui s'appelle Marie et d'âge: 26\n",
      "une personne qui s'appelle Stéphanie et d'âge: 18\n",
      "une personne qui s'appelle Stéphanie et d'âge: 19\n"
     ]
    }
   ],
   "source": [
    "for humain in humains:\n",
    "    print( humain )\n",
    "    humain.birthday()\n",
    "    print( humain )"
   ]
  },
  {
   "cell_type": "code",
   "execution_count": 117,
   "metadata": {},
   "outputs": [
    {
     "name": "stdout",
     "output_type": "stream",
     "text": [
      "une personne qui s'appelle Vincent et d'âge: 18\n"
     ]
    }
   ],
   "source": [
    "print(humain2)"
   ]
  },
  {
   "cell_type": "code",
   "execution_count": null,
   "metadata": {},
   "outputs": [],
   "source": [
    "People.apocalypse()"
   ]
  },
  {
   "cell_type": "code",
   "execution_count": 107,
   "metadata": {},
   "outputs": [],
   "source": [
    "humain1.apocalypse() # humain1.apocalypse() , humain2.apocalypse()"
   ]
  },
  {
   "cell_type": "code",
   "execution_count": 108,
   "metadata": {},
   "outputs": [
    {
     "data": {
      "text/plain": [
       "(0, 0)"
      ]
     },
     "execution_count": 108,
     "metadata": {},
     "output_type": "execute_result"
    }
   ],
   "source": [
    "humain1.nb_of_arms, humain2.nb_of_arms"
   ]
  },
  {
   "cell_type": "code",
   "execution_count": 71,
   "metadata": {},
   "outputs": [
    {
     "data": {
      "text/plain": [
       "-2"
      ]
     },
     "execution_count": 71,
     "metadata": {},
     "output_type": "execute_result"
    }
   ],
   "source": [
    "humain1.nb_of_arms"
   ]
  },
  {
   "cell_type": "code",
   "execution_count": 70,
   "metadata": {},
   "outputs": [
    {
     "name": "stdout",
     "output_type": "stream",
     "text": [
      "-1\n"
     ]
    }
   ],
   "source": [
    "humain1.accident()"
   ]
  },
  {
   "cell_type": "code",
   "execution_count": 268,
   "metadata": {},
   "outputs": [],
   "source": [
    "class ListAvecSpecialDisplay(list):\n",
    "    def __str__(self):\n",
    "        output = \"\"\n",
    "        for index, valeur in enumerate(self):\n",
    "            output += f\"l'index {index}: \\tavec valeur {valeur}\\n\"\n",
    "        return output "
   ]
  },
  {
   "cell_type": "code",
   "execution_count": 272,
   "metadata": {},
   "outputs": [],
   "source": [
    "liste = ListAvecSpecialDisplay([1,10,3,4])"
   ]
  },
  {
   "cell_type": "code",
   "execution_count": 273,
   "metadata": {},
   "outputs": [
    {
     "name": "stdout",
     "output_type": "stream",
     "text": [
      "l'index 0: \tavec valeur 1\n",
      "l'index 1: \tavec valeur 10\n",
      "l'index 2: \tavec valeur 3\n",
      "l'index 3: \tavec valeur 4\n",
      "\n"
     ]
    }
   ],
   "source": [
    "print(liste)"
   ]
  },
  {
   "cell_type": "code",
   "execution_count": null,
   "metadata": {},
   "outputs": [],
   "source": []
  }
 ],
 "metadata": {
  "kernelspec": {
   "display_name": "Python 3",
   "language": "python",
   "name": "python3"
  },
  "language_info": {
   "codemirror_mode": {
    "name": "ipython",
    "version": 3
   },
   "file_extension": ".py",
   "mimetype": "text/x-python",
   "name": "python",
   "nbconvert_exporter": "python",
   "pygments_lexer": "ipython3",
   "version": "3.8.6"
  }
 },
 "nbformat": 4,
 "nbformat_minor": 4
}
